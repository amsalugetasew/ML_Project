{
 "cells": [
  {
   "cell_type": "code",
   "execution_count": null,
   "id": "dcb6d8ec",
   "metadata": {},
   "outputs": [],
   "source": [
    "import pandas as pd\n",
    "from sklearn.datasets import load_iris\n",
    "from sklearn.model_selection import train_test_split\n",
    "# Load the iris dataset\n",
    "iris = load_iris()\n",
    "iris_df = pd.DataFrame(data=iris.data, columns=iris.feature_names)\n",
    "iris_df['species'] = iris.target_names[iris.target]\n",
    "\n",
    "# Save the DataFrame to a CSV file\n",
    "iris_df.to_csv('iris_dataset.csv', index=False)\n",
    "\n",
    "# Load the dataset from the CSV file\n",
    "loaded_iris_df = pd.read_csv('iris_dataset.csv')\n",
    "\n",
    "# Display the first few rows of the loaded DataFrame\n",
    "print(loaded_iris_df.head())\n"
   ]
  },
  {
   "cell_type": "code",
   "execution_count": null,
   "id": "4e5d18d3",
   "metadata": {},
   "outputs": [],
   "source": [
    "# Load the iris dataset\n",
    "iris = load_iris()\n",
    "iris_df = pd.DataFrame(data=iris.data, columns=iris.feature_names)\n",
    "iris_df['species'] = iris.target_names[iris.target]\n",
    "\n",
    "# Split the dataset into training and test sets (70% train, 30% test)\n",
    "train_df, temp_df = train_test_split(iris_df, test_size=0.3, random_state=42)\n",
    "\n",
    "# Split the temporary set into validation and test sets (50% of temp_df each, which is 15% of the original dataset)\n",
    "val_df, test_df = train_test_split(temp_df, test_size=0.5, random_state=42)\n",
    "\n",
    "# Save each DataFrame to a CSV file\n",
    "train_df.to_csv('iris_train.csv', index=False)\n",
    "val_df.to_csv('iris_val.csv', index=False)\n",
    "test_df.to_csv('iris_test.csv', index=False)\n",
    "\n",
    "# Display the sizes of each set\n",
    "print(\"Training set size:\", train_df.shape)\n",
    "print(\"Validation set size:\", val_df.shape)\n",
    "print(\"Testing set size:\", test_df.shape)\n"
   ]
  }
 ],
 "metadata": {
  "kernelspec": {
   "display_name": "Python 3 (ipykernel)",
   "language": "python",
   "name": "python3"
  },
  "language_info": {
   "codemirror_mode": {
    "name": "ipython",
    "version": 3
   },
   "file_extension": ".py",
   "mimetype": "text/x-python",
   "name": "python",
   "nbconvert_exporter": "python",
   "pygments_lexer": "ipython3",
   "version": "3.11.5"
  }
 },
 "nbformat": 4,
 "nbformat_minor": 5
}
